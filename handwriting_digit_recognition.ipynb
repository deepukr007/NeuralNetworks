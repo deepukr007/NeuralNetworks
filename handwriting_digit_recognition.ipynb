{
 "cells": [
  {
   "cell_type": "markdown",
   "id": "44802d77",
   "metadata": {},
   "source": [
    "# Hand writing Recignition Using Neural Network"
   ]
  },
  {
   "cell_type": "markdown",
   "id": "e8a3d71c",
   "metadata": {},
   "source": [
    "#### Type 1 - Using Simple Neural network with no hidden layers and manually flattening the data.\n",
    "\n",
    "Steps\n",
    "- import modules- TensorFlow , Keras , matplotlib for plotting and numpy for array operation\n",
    "- Download mnist dataset which contains hand written digits from keras datasets\n",
    "- Extract train and test split from the downloaded dataset\n",
    "- Normalise the values in dataset i.e Divide by max number 255 in our case which will keep all the values in 0-1 range\n",
    "- (imp) Flatten x_train and x_test\n",
    "- Use keras models to create , compile , train and test the model.\n",
    "- In the below example we only have one dense layer of 784 which is 28*28 which inturn is the length of the flattened array\n",
    "- Evaluate and test the model using -> model.evaluate which will evaluate model on test dataset.\n",
    "\n",
    "\n",
    "\n",
    "For simple NN with no hidden layers and with epochs of 5 I got accuracy of 92.52%\n",
    "\n",
    "---Scroll down to see Type 2 --------"
   ]
  },
  {
   "cell_type": "code",
   "execution_count": 65,
   "id": "f54cf7a4",
   "metadata": {},
   "outputs": [],
   "source": [
    "import tensorflow as tf\n",
    "from tensorflow import keras\n",
    "import matplotlib.pyplot as plt\n",
    "%matplotlib inline\n",
    "import numpy as np"
   ]
  },
  {
   "cell_type": "code",
   "execution_count": 36,
   "id": "af3bf0d6",
   "metadata": {},
   "outputs": [],
   "source": [
    "dataset = keras.datasets.mnist.load_data()\n",
    "(x_train , y_train) , (x_test , y_test) = dataset"
   ]
  },
  {
   "cell_type": "code",
   "execution_count": 37,
   "id": "400ab746",
   "metadata": {},
   "outputs": [
    {
     "name": "stdout",
     "output_type": "stream",
     "text": [
      "(60000, 28, 28)\n",
      "(60000,)\n",
      "(10000, 28, 28)\n",
      "(10000,)\n"
     ]
    }
   ],
   "source": [
    "x_train= x_train/255\n",
    "x_test= x_test/255 \n",
    "print(x_train.shape)\n",
    "print(y_train.shape)\n",
    "print(x_test.shape)\n",
    "print(y_test.shape)\n"
   ]
  },
  {
   "cell_type": "code",
   "execution_count": 38,
   "id": "0dbe6af3",
   "metadata": {},
   "outputs": [
    {
     "name": "stdout",
     "output_type": "stream",
     "text": [
      "(60000, 784)\n"
     ]
    }
   ],
   "source": [
    "x_train_flattened = x_train.reshape(len(x_train) , 28*28) \n",
    "x_test_flattened = x_test.reshape(len(x_test) , 28*28)\n",
    "print(x_train_flattened.shape)"
   ]
  },
  {
   "cell_type": "code",
   "execution_count": 39,
   "id": "e01fb45b",
   "metadata": {},
   "outputs": [
    {
     "name": "stdout",
     "output_type": "stream",
     "text": [
      "Epoch 1/5\n",
      "1875/1875 [==============================] - 4s 2ms/step - loss: 0.4728 - accuracy: 0.8760\n",
      "Epoch 2/5\n",
      "1875/1875 [==============================] - 3s 2ms/step - loss: 0.3046 - accuracy: 0.9143\n",
      "Epoch 3/5\n",
      "1875/1875 [==============================] - 3s 2ms/step - loss: 0.2836 - accuracy: 0.9212\n",
      "Epoch 4/5\n",
      "1875/1875 [==============================] - 4s 2ms/step - loss: 0.2737 - accuracy: 0.9237\n",
      "Epoch 5/5\n",
      "1875/1875 [==============================] - 3s 2ms/step - loss: 0.2668 - accuracy: 0.9255\n"
     ]
    },
    {
     "data": {
      "text/plain": [
       "<keras.callbacks.History at 0x1d68f7c7e50>"
      ]
     },
     "execution_count": 39,
     "metadata": {},
     "output_type": "execute_result"
    }
   ],
   "source": [
    "model = keras.Sequential([\n",
    "    keras.layers.Dense(10 , input_shape=(784,) , activation='sigmoid')\n",
    "])\n",
    "\n",
    "model.compile(optimizer='adam' , \n",
    "             loss='sparse_categorical_crossentropy',\n",
    "             metrics= ['accuracy']\n",
    "             )\n",
    "\n",
    "model.fit(x_train_flattened , y_train , epochs=5)"
   ]
  },
  {
   "cell_type": "code",
   "execution_count": 40,
   "id": "ca7f684b",
   "metadata": {},
   "outputs": [
    {
     "name": "stdout",
     "output_type": "stream",
     "text": [
      "313/313 [==============================] - 1s 2ms/step - loss: 0.2712 - accuracy: 0.9251\n"
     ]
    },
    {
     "data": {
      "text/plain": [
       "[0.27115777134895325, 0.9251000285148621]"
      ]
     },
     "execution_count": 40,
     "metadata": {},
     "output_type": "execute_result"
    }
   ],
   "source": [
    "model.evaluate(x_test_flattened , y_test)"
   ]
  },
  {
   "cell_type": "code",
   "execution_count": 41,
   "id": "843bacb8",
   "metadata": {},
   "outputs": [
    {
     "data": {
      "text/plain": [
       "<matplotlib.image.AxesImage at 0x1d68f877e20>"
      ]
     },
     "execution_count": 41,
     "metadata": {},
     "output_type": "execute_result"
    },
    {
     "data": {
      "image/png": "[encoded data removed]",
      "text/plain": [
       "<Figure size 432x288 with 1 Axes>"
      ]
     },
     "metadata": {
      "needs_background": "light"
     },
     "output_type": "display_data"
    }
   ],
   "source": [
    "plt.imshow(x_test[0])"
   ]
  },
  {
   "cell_type": "code",
   "execution_count": 42,
   "id": "94456eb0",
   "metadata": {},
   "outputs": [
    {
     "data": {
      "text/plain": [
       "7"
      ]
     },
     "execution_count": 42,
     "metadata": {},
     "output_type": "execute_result"
    }
   ],
   "source": [
    "y_predicted = model.predict(x_test_flattened)\n",
    "np.argmax(y_predicted[0])"
   ]
  },
  {
   "cell_type": "code",
   "execution_count": 45,
   "id": "1d8e9fd9",
   "metadata": {},
   "outputs": [
    {
     "data": {
      "text/plain": [
       "<tf.Tensor: shape=(10, 10), dtype=int32, numpy=\n",
       "array([[ 962,    0,    1,    1,    0,    5,    6,    2,    3,    0],\n",
       "       [   0, 1109,    3,    2,    0,    1,    4,    2,   14,    0],\n",
       "       [   7,   11,  918,   13,    8,    5,   13,    9,   45,    3],\n",
       "       [   6,    0,   20,  884,    1,   47,    3,   10,   32,    7],\n",
       "       [   1,    1,    5,    0,  927,    0,   10,    2,   11,   25],\n",
       "       [  11,    2,    2,   14,    9,  800,   14,    4,   30,    6],\n",
       "       [   8,    3,    3,    0,    7,   15,  916,    2,    4,    0],\n",
       "       [   2,    7,   24,    5,    8,    1,    0,  947,    5,   29],\n",
       "       [   4,    8,    5,   14,    9,   25,    9,    8,  886,    6],\n",
       "       [  10,    7,    1,    8,   37,    8,    0,   24,   12,  902]])>"
      ]
     },
     "execution_count": 45,
     "metadata": {},
     "output_type": "execute_result"
    }
   ],
   "source": [
    "y_predicted_lables  = [np.argmax(i) for i in y_predicted ]\n",
    "cm = tf.math.confusion_matrix(labels =y_test , predictions =y_predicted_lables)\n",
    "cm"
   ]
  },
  {
   "cell_type": "markdown",
   "id": "079dc3a3",
   "metadata": {},
   "source": [
    "-------------------------------------------------------------------------------------------------------------------------------"
   ]
  },
  {
   "cell_type": "markdown",
   "id": "7afe7e7b",
   "metadata": {},
   "source": [
    "#### Type 2 - Neural network 11 hidden layer and flattening the data with keras.\n",
    "Steps \n",
    "- Same as the type 1 but here flattening is done using keras library\n",
    "- Add hidden layer of 100 neurons\n",
    "\n",
    "For  NN with 1 hidden layer of 100 neurons trained with epochs of 5, I got accuracy of 98.51%\n",
    "\n",
    "Observation\n",
    "- The accuracy has increased to from 92.51% to 98.51% which is significant by adding a hidden layer to the Neural Network\n"
   ]
  },
  {
   "cell_type": "code",
   "execution_count": 66,
   "id": "9e0780f8",
   "metadata": {},
   "outputs": [],
   "source": [
    "dataset2 = keras.datasets.mnist.load_data()\n",
    "(x_train1 , y_train1) , (x_test1 , y_test1) = dataset\n",
    "\n",
    "x_train1 = x_train1/255\n",
    "x_test1 = x_test/255"
   ]
  },
  {
   "cell_type": "code",
   "execution_count": 26,
   "id": "343ac5a1",
   "metadata": {},
   "outputs": [
    {
     "name": "stdout",
     "output_type": "stream",
     "text": [
      "Epoch 1/5\n",
      "1875/1875 [==============================] - 5s 3ms/step - loss: 0.2634 - accuracy: 0.9267\n",
      "Epoch 2/5\n",
      "1875/1875 [==============================] - 5s 3ms/step - loss: 0.1201 - accuracy: 0.9642\n",
      "Epoch 3/5\n",
      "1875/1875 [==============================] - 5s 3ms/step - loss: 0.0843 - accuracy: 0.9750\n",
      "Epoch 4/5\n",
      "1875/1875 [==============================] - 5s 3ms/step - loss: 0.0641 - accuracy: 0.9804\n",
      "Epoch 5/5\n",
      "1875/1875 [==============================] - 5s 3ms/step - loss: 0.0500 - accuracy: 0.9851\n"
     ]
    },
    {
     "data": {
      "text/plain": [
       "<keras.callbacks.History at 0x1d68f55f910>"
      ]
     },
     "execution_count": 26,
     "metadata": {},
     "output_type": "execute_result"
    }
   ],
   "source": [
    "model1= keras.Sequential([\n",
    "    keras.layers.Flatten(input_shape=(28,28)),\n",
    "    keras.layers.Dense(100, activation='relu'),\n",
    "    keras.layers.Dense(10 , activation='sigmoid')\n",
    "])\n",
    "\n",
    "model1.compile(optimizer='adam' , \n",
    "             loss='sparse_categorical_crossentropy',\n",
    "             metrics= ['accuracy']\n",
    "             )\n",
    "model1.fit(x_train1 , y_train1 , epochs=5)"
   ]
  },
  {
   "cell_type": "code",
   "execution_count": 29,
   "id": "b5b9e14c",
   "metadata": {},
   "outputs": [
    {
     "name": "stdout",
     "output_type": "stream",
     "text": [
      "313/313 [==============================] - 1s 2ms/step - loss: 0.0735 - accuracy: 0.9776\n"
     ]
    },
    {
     "data": {
      "text/plain": [
       "[0.07345819473266602, 0.9775999784469604]"
      ]
     },
     "execution_count": 29,
     "metadata": {},
     "output_type": "execute_result"
    }
   ],
   "source": [
    "model1.evaluate(x_test1 , y_test1)"
   ]
  },
  {
   "cell_type": "code",
   "execution_count": 105,
   "id": "6aab67a2",
   "metadata": {},
   "outputs": [
    {
     "name": "stdout",
     "output_type": "stream",
     "text": [
      "1875/1875 [==============================] - 5s 2ms/step - loss: 0.2002 - accuracy: 0.9461\n"
     ]
    },
    {
     "data": {
      "text/plain": [
       "[0.2001737803220749, 0.9460999965667725]"
      ]
     },
     "execution_count": 105,
     "metadata": {},
     "output_type": "execute_result"
    }
   ],
   "source": [
    "model.evaluate(x_train , y_train)"
   ]
  },
  {
   "cell_type": "code",
   "execution_count": 62,
   "id": "a1e0898e",
   "metadata": {},
   "outputs": [],
   "source": [
    "y_predicted1 = model1.predict(x_test1)"
   ]
  },
  {
   "cell_type": "code",
   "execution_count": 63,
   "id": "4bb47225",
   "metadata": {},
   "outputs": [
    {
     "data": {
      "text/plain": [
       "0"
      ]
     },
     "execution_count": 63,
     "metadata": {},
     "output_type": "execute_result"
    },
    {
     "data": {
      "image/png": "[encoded data removed]",
      "text/plain": [
       "<Figure size 432x288 with 1 Axes>"
      ]
     },
     "metadata": {
      "needs_background": "light"
     },
     "output_type": "display_data"
    }
   ],
   "source": [
    "plt.imshow(x_test[10])\n",
    "np.argmax(y_predicted1[10])"
   ]
  },
  {
   "cell_type": "code",
   "execution_count": 64,
   "id": "376a5d85",
   "metadata": {},
   "outputs": [
    {
     "data": {
      "text/plain": [
       "<tf.Tensor: shape=(10, 10), dtype=int32, numpy=\n",
       "array([[ 969,    0,    0,    1,    2,    1,    4,    1,    2,    0],\n",
       "       [   0, 1118,    3,    0,    0,    0,    3,    0,   11,    0],\n",
       "       [   5,    2,  997,    8,    1,    0,    1,    6,   12,    0],\n",
       "       [   2,    1,    3,  979,    0,    8,    0,    7,    7,    3],\n",
       "       [   0,    0,    2,    0,  963,    0,    4,    1,    2,   10],\n",
       "       [   2,    0,    1,    5,    2,  872,    4,    0,    5,    1],\n",
       "       [   2,    2,    1,    1,    5,    1,  945,    0,    1,    0],\n",
       "       [   0,    4,    7,    0,    2,    0,    0, 1007,    2,    6],\n",
       "       [   5,    0,    1,    1,    5,    1,    3,    4,  949,    5],\n",
       "       [   1,    4,    0,    6,    7,    1,    2,    6,    5,  977]])>"
      ]
     },
     "execution_count": 64,
     "metadata": {},
     "output_type": "execute_result"
    }
   ],
   "source": [
    "#Confusion Matrix\n",
    "y1_predicted_lables  = [np.argmax(i) for i in y_predicted1 ]\n",
    "cm1 = tf.math.confusion_matrix(labels =y_test1 , predictions =y1_predicted_lables)\n",
    "cm1"
   ]
  }
 ],
 "metadata": {
  "kernelspec": {
   "display_name": "Python 3 (ipykernel)",
   "language": "python",
   "name": "python3"
  },
  "language_info": {
   "codemirror_mode": {
    "name": "ipython",
    "version": 3
   },
   "file_extension": ".py",
   "mimetype": "text/x-python",
   "name": "python",
   "nbconvert_exporter": "python",
   "pygments_lexer": "ipython3",
   "version": "3.9.7"
  }
 },
 "nbformat": 4,
 "nbformat_minor": 5
}
